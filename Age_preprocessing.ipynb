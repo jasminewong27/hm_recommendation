{
 "cells": [
  {
   "cell_type": "code",
   "execution_count": 1,
   "metadata": {},
   "outputs": [
    {
     "name": "stderr",
     "output_type": "stream",
     "text": [
      "/Users/manonledonne/opt/anaconda3/lib/python3.8/site-packages/pandas/core/computation/expressions.py:20: UserWarning: Pandas requires version '2.7.3' or newer of 'numexpr' (version '2.7.1' currently installed).\n",
      "  from pandas.core.computation.check import NUMEXPR_INSTALLED\n"
     ]
    }
   ],
   "source": [
    "import pandas as pd"
   ]
  },
  {
   "cell_type": "code",
   "execution_count": 55,
   "metadata": {},
   "outputs": [
    {
     "data": {
      "text/html": [
       "<div>\n",
       "<style scoped>\n",
       "    .dataframe tbody tr th:only-of-type {\n",
       "        vertical-align: middle;\n",
       "    }\n",
       "\n",
       "    .dataframe tbody tr th {\n",
       "        vertical-align: top;\n",
       "    }\n",
       "\n",
       "    .dataframe thead th {\n",
       "        text-align: right;\n",
       "    }\n",
       "</style>\n",
       "<table border=\"1\" class=\"dataframe\">\n",
       "  <thead>\n",
       "    <tr style=\"text-align: right;\">\n",
       "      <th></th>\n",
       "      <th>customer_id</th>\n",
       "      <th>FN</th>\n",
       "      <th>Active</th>\n",
       "      <th>club_member_status</th>\n",
       "      <th>fashion_news_frequency</th>\n",
       "      <th>age</th>\n",
       "      <th>postal_code</th>\n",
       "    </tr>\n",
       "  </thead>\n",
       "  <tbody>\n",
       "    <tr>\n",
       "      <th>0</th>\n",
       "      <td>00000dbacae5abe5e23885899a1fa44253a17956c6d1c3...</td>\n",
       "      <td>NaN</td>\n",
       "      <td>NaN</td>\n",
       "      <td>ACTIVE</td>\n",
       "      <td>NONE</td>\n",
       "      <td>49.0</td>\n",
       "      <td>52043ee2162cf5aa7ee79974281641c6f11a68d276429a...</td>\n",
       "    </tr>\n",
       "    <tr>\n",
       "      <th>1</th>\n",
       "      <td>0000423b00ade91418cceaf3b26c6af3dd342b51fd051e...</td>\n",
       "      <td>NaN</td>\n",
       "      <td>NaN</td>\n",
       "      <td>ACTIVE</td>\n",
       "      <td>NONE</td>\n",
       "      <td>25.0</td>\n",
       "      <td>2973abc54daa8a5f8ccfe9362140c63247c5eee03f1d93...</td>\n",
       "    </tr>\n",
       "    <tr>\n",
       "      <th>2</th>\n",
       "      <td>000058a12d5b43e67d225668fa1f8d618c13dc232df0ca...</td>\n",
       "      <td>NaN</td>\n",
       "      <td>NaN</td>\n",
       "      <td>ACTIVE</td>\n",
       "      <td>NONE</td>\n",
       "      <td>24.0</td>\n",
       "      <td>64f17e6a330a85798e4998f62d0930d14db8db1c054af6...</td>\n",
       "    </tr>\n",
       "    <tr>\n",
       "      <th>3</th>\n",
       "      <td>00005ca1c9ed5f5146b52ac8639a40ca9d57aeff4d1bd2...</td>\n",
       "      <td>NaN</td>\n",
       "      <td>NaN</td>\n",
       "      <td>ACTIVE</td>\n",
       "      <td>NONE</td>\n",
       "      <td>54.0</td>\n",
       "      <td>5d36574f52495e81f019b680c843c443bd343d5ca5b1c2...</td>\n",
       "    </tr>\n",
       "    <tr>\n",
       "      <th>4</th>\n",
       "      <td>00006413d8573cd20ed7128e53b7b13819fe5cfc2d801f...</td>\n",
       "      <td>1.0</td>\n",
       "      <td>1.0</td>\n",
       "      <td>ACTIVE</td>\n",
       "      <td>Regularly</td>\n",
       "      <td>52.0</td>\n",
       "      <td>25fa5ddee9aac01b35208d01736e57942317d756b32ddd...</td>\n",
       "    </tr>\n",
       "  </tbody>\n",
       "</table>\n",
       "</div>"
      ],
      "text/plain": [
       "                                         customer_id   FN  Active   \n",
       "0  00000dbacae5abe5e23885899a1fa44253a17956c6d1c3...  NaN     NaN  \\\n",
       "1  0000423b00ade91418cceaf3b26c6af3dd342b51fd051e...  NaN     NaN   \n",
       "2  000058a12d5b43e67d225668fa1f8d618c13dc232df0ca...  NaN     NaN   \n",
       "3  00005ca1c9ed5f5146b52ac8639a40ca9d57aeff4d1bd2...  NaN     NaN   \n",
       "4  00006413d8573cd20ed7128e53b7b13819fe5cfc2d801f...  1.0     1.0   \n",
       "\n",
       "  club_member_status fashion_news_frequency   age   \n",
       "0             ACTIVE                   NONE  49.0  \\\n",
       "1             ACTIVE                   NONE  25.0   \n",
       "2             ACTIVE                   NONE  24.0   \n",
       "3             ACTIVE                   NONE  54.0   \n",
       "4             ACTIVE              Regularly  52.0   \n",
       "\n",
       "                                         postal_code  \n",
       "0  52043ee2162cf5aa7ee79974281641c6f11a68d276429a...  \n",
       "1  2973abc54daa8a5f8ccfe9362140c63247c5eee03f1d93...  \n",
       "2  64f17e6a330a85798e4998f62d0930d14db8db1c054af6...  \n",
       "3  5d36574f52495e81f019b680c843c443bd343d5ca5b1c2...  \n",
       "4  25fa5ddee9aac01b35208d01736e57942317d756b32ddd...  "
      ]
     },
     "execution_count": 55,
     "metadata": {},
     "output_type": "execute_result"
    }
   ],
   "source": [
    "customers = pd.read_csv(\"customers.csv\")\n",
    "customers.head()"
   ]
  },
  {
   "cell_type": "code",
   "execution_count": 35,
   "metadata": {},
   "outputs": [],
   "source": [
    "customers = customers[customers['age'].notna()]\n"
   ]
  },
  {
   "cell_type": "code",
   "execution_count": 53,
   "metadata": {},
   "outputs": [
    {
     "data": {
      "text/plain": [
       "array([49., 25., 24., ..., 21., 18., 65.])"
      ]
     },
     "execution_count": 53,
     "metadata": {},
     "output_type": "execute_result"
    }
   ],
   "source": [
    "customers['age'].values"
   ]
  },
  {
   "cell_type": "code",
   "execution_count": 56,
   "metadata": {},
   "outputs": [],
   "source": [
    "# age ranges by fashion industry standard\n",
    "def age_range(age):\n",
    "    if age <= 18:\n",
    "        return \"≤18\"\n",
    "    if 18 < age <= 24:\n",
    "        return \"19-24\"\n",
    "    elif 25 <= age <= 34:\n",
    "        return \"25-34\"\n",
    "    elif 35 <= age <= 44:\n",
    "        return \"35-44\"\n",
    "    elif 45 <= age <= 54:\n",
    "        return \"45-54\"\n",
    "    elif 55 <= age < 65:\n",
    "        return \"55-64\"\n",
    "    elif age >= 65:\n",
    "        return \"65+\"\n",
    "\n",
    "\"\"\"Adding rows into df\"\"\"\n",
    "\n",
    "customers['Age_Range'] = customers['age'].map(age_range)\n",
    "\n"
   ]
  },
  {
   "cell_type": "code",
   "execution_count": 67,
   "metadata": {},
   "outputs": [
    {
     "data": {
      "text/plain": [
       "393292"
      ]
     },
     "execution_count": 67,
     "metadata": {},
     "output_type": "execute_result"
    }
   ],
   "source": [
    "customers[customers.Age_Range == \"25-34\"].shape[0]"
   ]
  },
  {
   "cell_type": "code",
   "execution_count": 37,
   "metadata": {},
   "outputs": [],
   "source": [
    "n = 30000"
   ]
  },
  {
   "cell_type": "code",
   "execution_count": 57,
   "metadata": {},
   "outputs": [],
   "source": [
    "under_18 = customers[customers['Age_Range'] == \"≤18\"]\n",
    "under_18.count()\n",
    "under_18 = under_18.iloc[:n]"
   ]
  },
  {
   "cell_type": "code",
   "execution_count": 58,
   "metadata": {},
   "outputs": [
    {
     "data": {
      "text/plain": [
       "customer_id               30000\n",
       "FN                         9900\n",
       "Active                     9628\n",
       "club_member_status        29961\n",
       "fashion_news_frequency    29619\n",
       "age                       30000\n",
       "postal_code               30000\n",
       "Age_Range                 30000\n",
       "dtype: int64"
      ]
     },
     "execution_count": 58,
     "metadata": {},
     "output_type": "execute_result"
    }
   ],
   "source": [
    "under_18.count()\n",
    "\n"
   ]
  },
  {
   "cell_type": "code",
   "execution_count": 59,
   "metadata": {},
   "outputs": [],
   "source": [
    "eighteen_24 = customers[customers['Age_Range'] == \"19-24\"]\n",
    "eighteen_24.count()\n",
    "eighteen_24 = eighteen_24.iloc[:n]"
   ]
  },
  {
   "cell_type": "code",
   "execution_count": 60,
   "metadata": {},
   "outputs": [
    {
     "data": {
      "text/plain": [
       "customer_id               30000\n",
       "FN                        11261\n",
       "Active                    10875\n",
       "club_member_status        29923\n",
       "fashion_news_frequency    29715\n",
       "age                       30000\n",
       "postal_code               30000\n",
       "Age_Range                 30000\n",
       "dtype: int64"
      ]
     },
     "execution_count": 60,
     "metadata": {},
     "output_type": "execute_result"
    }
   ],
   "source": [
    "eighteen_24.count()\n",
    "\n"
   ]
  },
  {
   "cell_type": "code",
   "execution_count": 70,
   "metadata": {},
   "outputs": [],
   "source": [
    "twenty5_34 = customers[customers['Age_Range'] == \"25-34\"]\n",
    "twenty5_34.count()\n",
    "twenty5_34 = twenty5_34.iloc[:n]"
   ]
  },
  {
   "cell_type": "code",
   "execution_count": 71,
   "metadata": {},
   "outputs": [
    {
     "data": {
      "text/plain": [
       "customer_id               30000\n",
       "FN                         9027\n",
       "Active                     8813\n",
       "club_member_status        29940\n",
       "fashion_news_frequency    29692\n",
       "age                       30000\n",
       "postal_code               30000\n",
       "Age_Range                 30000\n",
       "dtype: int64"
      ]
     },
     "execution_count": 71,
     "metadata": {},
     "output_type": "execute_result"
    }
   ],
   "source": [
    "twenty5_34.count()\n",
    "\n"
   ]
  },
  {
   "cell_type": "code",
   "execution_count": 72,
   "metadata": {},
   "outputs": [],
   "source": [
    "thirty5_44 = customers[customers['Age_Range'] == \"35-44\"]\n",
    "thirty5_44.count()\n",
    "thirty5_44 = thirty5_44.iloc[n]"
   ]
  },
  {
   "cell_type": "code",
   "execution_count": 73,
   "metadata": {},
   "outputs": [],
   "source": [
    "forty5_54 = customers[customers['Age_Range'] == \"45-54\"]\n",
    "forty5_54.count()\n",
    "forty5_54 = forty5_54.iloc[:n]"
   ]
  },
  {
   "cell_type": "code",
   "execution_count": 74,
   "metadata": {},
   "outputs": [],
   "source": [
    "fifty5_64 = customers[customers['Age_Range'] == \"55-64\"]\n",
    "fifty5_64.count()\n",
    "fifty5_64 = fifty5_64.iloc[:n]"
   ]
  },
  {
   "cell_type": "code",
   "execution_count": 75,
   "metadata": {},
   "outputs": [],
   "source": [
    "sixty5_up = customers[customers['Age_Range'] == \"65+\"]\n",
    "sixty5_up.count()\n",
    "sixty5_up = sixty5_up.iloc[:n]"
   ]
  },
  {
   "cell_type": "code",
   "execution_count": null,
   "metadata": {},
   "outputs": [],
   "source": []
  },
  {
   "cell_type": "code",
   "execution_count": 76,
   "metadata": {},
   "outputs": [],
   "source": [
    "df_all_ages = pd.concat([under_18, eighteen_24, twenty5_34, thirty5_44, forty5_54, fifty5_64, sixty5_up ])"
   ]
  },
  {
   "cell_type": "code",
   "execution_count": null,
   "metadata": {},
   "outputs": [],
   "source": []
  },
  {
   "cell_type": "code",
   "execution_count": 78,
   "metadata": {},
   "outputs": [],
   "source": [
    "df_all_ages = df_all_ages.drop(columns = [\"FN\",\"Active\", \"club_member_status\", \"postal_code\", \"fashion_news_frequency\"])\n",
    "\n"
   ]
  },
  {
   "cell_type": "code",
   "execution_count": 81,
   "metadata": {},
   "outputs": [],
   "source": [
    "df_all_ages = df_all_ages[df_all_ages.columns[:-1]]"
   ]
  },
  {
   "cell_type": "code",
   "execution_count": 79,
   "metadata": {},
   "outputs": [
    {
     "data": {
      "text/plain": [
       "Age_Range\n",
       "≤18      30000\n",
       "19-24    30000\n",
       "25-34    30000\n",
       "45-54    30000\n",
       "55-64    30000\n",
       "65+      30000\n",
       "Name: count, dtype: int64"
      ]
     },
     "execution_count": 79,
     "metadata": {},
     "output_type": "execute_result"
    }
   ],
   "source": [
    "df_all_ages['Age_Range'].value_counts()"
   ]
  },
  {
   "cell_type": "code",
   "execution_count": 82,
   "metadata": {},
   "outputs": [
    {
     "data": {
      "text/html": [
       "<div>\n",
       "<style scoped>\n",
       "    .dataframe tbody tr th:only-of-type {\n",
       "        vertical-align: middle;\n",
       "    }\n",
       "\n",
       "    .dataframe tbody tr th {\n",
       "        vertical-align: top;\n",
       "    }\n",
       "\n",
       "    .dataframe thead th {\n",
       "        text-align: right;\n",
       "    }\n",
       "</style>\n",
       "<table border=\"1\" class=\"dataframe\">\n",
       "  <thead>\n",
       "    <tr style=\"text-align: right;\">\n",
       "      <th></th>\n",
       "      <th>customer_id</th>\n",
       "      <th>age</th>\n",
       "      <th>Age_Range</th>\n",
       "    </tr>\n",
       "  </thead>\n",
       "  <tbody>\n",
       "    <tr>\n",
       "      <th>50</th>\n",
       "      <td>000270f6018e827d6d678efe815565a22668fb801b2b89...</td>\n",
       "      <td>17.0</td>\n",
       "      <td>≤18</td>\n",
       "    </tr>\n",
       "    <tr>\n",
       "      <th>61</th>\n",
       "      <td>0002e6a17e3a75600888cac019846a600c9c6fe2bc1565...</td>\n",
       "      <td>18.0</td>\n",
       "      <td>≤18</td>\n",
       "    </tr>\n",
       "    <tr>\n",
       "      <th>98</th>\n",
       "      <td>00045b41ba4df7a2e6c09093ec92873ea43a137cf2b24c...</td>\n",
       "      <td>18.0</td>\n",
       "      <td>≤18</td>\n",
       "    </tr>\n",
       "    <tr>\n",
       "      <th>126</th>\n",
       "      <td>0005653de6979862791b1de079f271419bc73adcfece2c...</td>\n",
       "      <td>17.0</td>\n",
       "      <td>≤18</td>\n",
       "    </tr>\n",
       "    <tr>\n",
       "      <th>165</th>\n",
       "      <td>0006ca2c5ecdbdcc1de5e72adffc6c33448fc2aaa62afe...</td>\n",
       "      <td>17.0</td>\n",
       "      <td>≤18</td>\n",
       "    </tr>\n",
       "    <tr>\n",
       "      <th>...</th>\n",
       "      <td>...</td>\n",
       "      <td>...</td>\n",
       "      <td>...</td>\n",
       "    </tr>\n",
       "    <tr>\n",
       "      <th>942799</th>\n",
       "      <td>afe76fd2a9f776d8330c82a006f4b0662646110006dbbf...</td>\n",
       "      <td>65.0</td>\n",
       "      <td>65+</td>\n",
       "    </tr>\n",
       "    <tr>\n",
       "      <th>942810</th>\n",
       "      <td>afe7e316bdcd4fc8126a0a9c837078413f97a378ea0c5d...</td>\n",
       "      <td>69.0</td>\n",
       "      <td>65+</td>\n",
       "    </tr>\n",
       "    <tr>\n",
       "      <th>942821</th>\n",
       "      <td>afe89bf2eb4139a9d3e743561310df3c2a270592f6a3ca...</td>\n",
       "      <td>68.0</td>\n",
       "      <td>65+</td>\n",
       "    </tr>\n",
       "    <tr>\n",
       "      <th>942824</th>\n",
       "      <td>afe8bb5ec68cace88a187c15d1afcbee1f7f95fb59fdbd...</td>\n",
       "      <td>74.0</td>\n",
       "      <td>65+</td>\n",
       "    </tr>\n",
       "    <tr>\n",
       "      <th>942868</th>\n",
       "      <td>afea896cd5c432a3d5b09e551c7ff4ffe2525729598d06...</td>\n",
       "      <td>70.0</td>\n",
       "      <td>65+</td>\n",
       "    </tr>\n",
       "  </tbody>\n",
       "</table>\n",
       "<p>180000 rows × 3 columns</p>\n",
       "</div>"
      ],
      "text/plain": [
       "                                              customer_id   age Age_Range\n",
       "50      000270f6018e827d6d678efe815565a22668fb801b2b89...  17.0       ≤18\n",
       "61      0002e6a17e3a75600888cac019846a600c9c6fe2bc1565...  18.0       ≤18\n",
       "98      00045b41ba4df7a2e6c09093ec92873ea43a137cf2b24c...  18.0       ≤18\n",
       "126     0005653de6979862791b1de079f271419bc73adcfece2c...  17.0       ≤18\n",
       "165     0006ca2c5ecdbdcc1de5e72adffc6c33448fc2aaa62afe...  17.0       ≤18\n",
       "...                                                   ...   ...       ...\n",
       "942799  afe76fd2a9f776d8330c82a006f4b0662646110006dbbf...  65.0       65+\n",
       "942810  afe7e316bdcd4fc8126a0a9c837078413f97a378ea0c5d...  69.0       65+\n",
       "942821  afe89bf2eb4139a9d3e743561310df3c2a270592f6a3ca...  68.0       65+\n",
       "942824  afe8bb5ec68cace88a187c15d1afcbee1f7f95fb59fdbd...  74.0       65+\n",
       "942868  afea896cd5c432a3d5b09e551c7ff4ffe2525729598d06...  70.0       65+\n",
       "\n",
       "[180000 rows x 3 columns]"
      ]
     },
     "execution_count": 82,
     "metadata": {},
     "output_type": "execute_result"
    }
   ],
   "source": [
    "df_all_ages.dropna(subset=['Age_Range'])"
   ]
  },
  {
   "cell_type": "code",
   "execution_count": 83,
   "metadata": {},
   "outputs": [],
   "source": [
    "df_all_ages.to_csv(\"customer_sample.csv\")"
   ]
  },
  {
   "cell_type": "code",
   "execution_count": 84,
   "metadata": {},
   "outputs": [],
   "source": [
    "transactions = pd.read_csv(\"transactions_train.csv\")"
   ]
  },
  {
   "cell_type": "code",
   "execution_count": 86,
   "metadata": {},
   "outputs": [],
   "source": [
    "transactions_final = transactions[transactions[\"customer_id\"].isin(df_all_ages.customer_id)]"
   ]
  },
  {
   "cell_type": "code",
   "execution_count": 87,
   "metadata": {},
   "outputs": [
    {
     "data": {
      "text/html": [
       "<div>\n",
       "<style scoped>\n",
       "    .dataframe tbody tr th:only-of-type {\n",
       "        vertical-align: middle;\n",
       "    }\n",
       "\n",
       "    .dataframe tbody tr th {\n",
       "        vertical-align: top;\n",
       "    }\n",
       "\n",
       "    .dataframe thead th {\n",
       "        text-align: right;\n",
       "    }\n",
       "</style>\n",
       "<table border=\"1\" class=\"dataframe\">\n",
       "  <thead>\n",
       "    <tr style=\"text-align: right;\">\n",
       "      <th></th>\n",
       "      <th>t_dat</th>\n",
       "      <th>customer_id</th>\n",
       "      <th>article_id</th>\n",
       "      <th>price</th>\n",
       "      <th>sales_channel_id</th>\n",
       "    </tr>\n",
       "  </thead>\n",
       "  <tbody>\n",
       "    <tr>\n",
       "      <th>0</th>\n",
       "      <td>2018-09-20</td>\n",
       "      <td>000058a12d5b43e67d225668fa1f8d618c13dc232df0ca...</td>\n",
       "      <td>663713001</td>\n",
       "      <td>0.050831</td>\n",
       "      <td>2</td>\n",
       "    </tr>\n",
       "    <tr>\n",
       "      <th>1</th>\n",
       "      <td>2018-09-20</td>\n",
       "      <td>000058a12d5b43e67d225668fa1f8d618c13dc232df0ca...</td>\n",
       "      <td>541518023</td>\n",
       "      <td>0.030492</td>\n",
       "      <td>2</td>\n",
       "    </tr>\n",
       "    <tr>\n",
       "      <th>2</th>\n",
       "      <td>2018-09-20</td>\n",
       "      <td>00007d2de826758b65a93dd24ce629ed66842531df6699...</td>\n",
       "      <td>505221004</td>\n",
       "      <td>0.015237</td>\n",
       "      <td>2</td>\n",
       "    </tr>\n",
       "    <tr>\n",
       "      <th>3</th>\n",
       "      <td>2018-09-20</td>\n",
       "      <td>00007d2de826758b65a93dd24ce629ed66842531df6699...</td>\n",
       "      <td>685687003</td>\n",
       "      <td>0.016932</td>\n",
       "      <td>2</td>\n",
       "    </tr>\n",
       "    <tr>\n",
       "      <th>4</th>\n",
       "      <td>2018-09-20</td>\n",
       "      <td>00007d2de826758b65a93dd24ce629ed66842531df6699...</td>\n",
       "      <td>685687004</td>\n",
       "      <td>0.016932</td>\n",
       "      <td>2</td>\n",
       "    </tr>\n",
       "    <tr>\n",
       "      <th>...</th>\n",
       "      <td>...</td>\n",
       "      <td>...</td>\n",
       "      <td>...</td>\n",
       "      <td>...</td>\n",
       "      <td>...</td>\n",
       "    </tr>\n",
       "    <tr>\n",
       "      <th>31784595</th>\n",
       "      <td>2020-09-22</td>\n",
       "      <td>e24c46297981cf5081ede2b84eecdb50de2c16fac224bf...</td>\n",
       "      <td>757904007</td>\n",
       "      <td>0.016932</td>\n",
       "      <td>1</td>\n",
       "    </tr>\n",
       "    <tr>\n",
       "      <th>31784596</th>\n",
       "      <td>2020-09-22</td>\n",
       "      <td>e24c46297981cf5081ede2b84eecdb50de2c16fac224bf...</td>\n",
       "      <td>228257003</td>\n",
       "      <td>0.010153</td>\n",
       "      <td>1</td>\n",
       "    </tr>\n",
       "    <tr>\n",
       "      <th>31784597</th>\n",
       "      <td>2020-09-22</td>\n",
       "      <td>e24c46297981cf5081ede2b84eecdb50de2c16fac224bf...</td>\n",
       "      <td>885077001</td>\n",
       "      <td>0.008458</td>\n",
       "      <td>1</td>\n",
       "    </tr>\n",
       "    <tr>\n",
       "      <th>31784608</th>\n",
       "      <td>2020-09-22</td>\n",
       "      <td>e2712cbf58492ce9f4603a9bede5807e204f2375f97273...</td>\n",
       "      <td>870548001</td>\n",
       "      <td>0.025407</td>\n",
       "      <td>2</td>\n",
       "    </tr>\n",
       "    <tr>\n",
       "      <th>31784609</th>\n",
       "      <td>2020-09-22</td>\n",
       "      <td>e2712cbf58492ce9f4603a9bede5807e204f2375f97273...</td>\n",
       "      <td>870548001</td>\n",
       "      <td>0.033881</td>\n",
       "      <td>2</td>\n",
       "    </tr>\n",
       "  </tbody>\n",
       "</table>\n",
       "<p>3417567 rows × 5 columns</p>\n",
       "</div>"
      ],
      "text/plain": [
       "               t_dat                                        customer_id   \n",
       "0         2018-09-20  000058a12d5b43e67d225668fa1f8d618c13dc232df0ca...  \\\n",
       "1         2018-09-20  000058a12d5b43e67d225668fa1f8d618c13dc232df0ca...   \n",
       "2         2018-09-20  00007d2de826758b65a93dd24ce629ed66842531df6699...   \n",
       "3         2018-09-20  00007d2de826758b65a93dd24ce629ed66842531df6699...   \n",
       "4         2018-09-20  00007d2de826758b65a93dd24ce629ed66842531df6699...   \n",
       "...              ...                                                ...   \n",
       "31784595  2020-09-22  e24c46297981cf5081ede2b84eecdb50de2c16fac224bf...   \n",
       "31784596  2020-09-22  e24c46297981cf5081ede2b84eecdb50de2c16fac224bf...   \n",
       "31784597  2020-09-22  e24c46297981cf5081ede2b84eecdb50de2c16fac224bf...   \n",
       "31784608  2020-09-22  e2712cbf58492ce9f4603a9bede5807e204f2375f97273...   \n",
       "31784609  2020-09-22  e2712cbf58492ce9f4603a9bede5807e204f2375f97273...   \n",
       "\n",
       "          article_id     price  sales_channel_id  \n",
       "0          663713001  0.050831                 2  \n",
       "1          541518023  0.030492                 2  \n",
       "2          505221004  0.015237                 2  \n",
       "3          685687003  0.016932                 2  \n",
       "4          685687004  0.016932                 2  \n",
       "...              ...       ...               ...  \n",
       "31784595   757904007  0.016932                 1  \n",
       "31784596   228257003  0.010153                 1  \n",
       "31784597   885077001  0.008458                 1  \n",
       "31784608   870548001  0.025407                 2  \n",
       "31784609   870548001  0.033881                 2  \n",
       "\n",
       "[3417567 rows x 5 columns]"
      ]
     },
     "execution_count": 87,
     "metadata": {},
     "output_type": "execute_result"
    }
   ],
   "source": [
    "transactions_final"
   ]
  },
  {
   "cell_type": "code",
   "execution_count": 88,
   "metadata": {
    "scrolled": false
   },
   "outputs": [
    {
     "data": {
      "text/html": [
       "<div>\n",
       "<style scoped>\n",
       "    .dataframe tbody tr th:only-of-type {\n",
       "        vertical-align: middle;\n",
       "    }\n",
       "\n",
       "    .dataframe tbody tr th {\n",
       "        vertical-align: top;\n",
       "    }\n",
       "\n",
       "    .dataframe thead th {\n",
       "        text-align: right;\n",
       "    }\n",
       "</style>\n",
       "<table border=\"1\" class=\"dataframe\">\n",
       "  <thead>\n",
       "    <tr style=\"text-align: right;\">\n",
       "      <th></th>\n",
       "      <th>t_dat</th>\n",
       "      <th>customer_id</th>\n",
       "      <th>article_id</th>\n",
       "      <th>price</th>\n",
       "      <th>sales_channel_id</th>\n",
       "    </tr>\n",
       "  </thead>\n",
       "  <tbody>\n",
       "    <tr>\n",
       "      <th>17590273</th>\n",
       "      <td>2019-10-06</td>\n",
       "      <td>1605f45a42126c298cee7ff250fe524fad0fe316bdb644...</td>\n",
       "      <td>685814022</td>\n",
       "      <td>0.033881</td>\n",
       "      <td>1</td>\n",
       "    </tr>\n",
       "    <tr>\n",
       "      <th>18645751</th>\n",
       "      <td>2019-11-04</td>\n",
       "      <td>10a26db5f52f18afa2f80863c3461645f4f3bb36b40bd3...</td>\n",
       "      <td>737222003</td>\n",
       "      <td>0.010153</td>\n",
       "      <td>2</td>\n",
       "    </tr>\n",
       "    <tr>\n",
       "      <th>20794684</th>\n",
       "      <td>2019-12-31</td>\n",
       "      <td>73372f0470d1295639924a05bd9b84c5576fc4cb221db9...</td>\n",
       "      <td>689866001</td>\n",
       "      <td>0.002695</td>\n",
       "      <td>1</td>\n",
       "    </tr>\n",
       "    <tr>\n",
       "      <th>30527704</th>\n",
       "      <td>2020-08-20</td>\n",
       "      <td>0ee6638462d9f0939b0d4c54372120c22888af16cde6a2...</td>\n",
       "      <td>843793004</td>\n",
       "      <td>0.033881</td>\n",
       "      <td>2</td>\n",
       "    </tr>\n",
       "    <tr>\n",
       "      <th>19360853</th>\n",
       "      <td>2019-11-28</td>\n",
       "      <td>0866737360bafdf1479bcf0fd53ea95fd3076cd68a79e6...</td>\n",
       "      <td>824497001</td>\n",
       "      <td>0.012186</td>\n",
       "      <td>2</td>\n",
       "    </tr>\n",
       "    <tr>\n",
       "      <th>...</th>\n",
       "      <td>...</td>\n",
       "      <td>...</td>\n",
       "      <td>...</td>\n",
       "      <td>...</td>\n",
       "      <td>...</td>\n",
       "    </tr>\n",
       "    <tr>\n",
       "      <th>29539955</th>\n",
       "      <td>2020-07-27</td>\n",
       "      <td>4d21924bf58d278f290b8db02ea8c8c965df8d146fbf92...</td>\n",
       "      <td>899247005</td>\n",
       "      <td>0.021593</td>\n",
       "      <td>1</td>\n",
       "    </tr>\n",
       "    <tr>\n",
       "      <th>25308710</th>\n",
       "      <td>2020-05-02</td>\n",
       "      <td>0dfb0407365d8e150c1b8a535514c2f0082f6b75f92cd7...</td>\n",
       "      <td>876127001</td>\n",
       "      <td>0.024186</td>\n",
       "      <td>2</td>\n",
       "    </tr>\n",
       "    <tr>\n",
       "      <th>26900967</th>\n",
       "      <td>2020-06-06</td>\n",
       "      <td>91aafcb2cf691b82792c31dde6fe2108730ee9dc258354...</td>\n",
       "      <td>820507002</td>\n",
       "      <td>0.004780</td>\n",
       "      <td>1</td>\n",
       "    </tr>\n",
       "    <tr>\n",
       "      <th>24186795</th>\n",
       "      <td>2020-04-06</td>\n",
       "      <td>090d521efdf07346dc951aec88776e727e86dcb48d794b...</td>\n",
       "      <td>883033002</td>\n",
       "      <td>0.028322</td>\n",
       "      <td>2</td>\n",
       "    </tr>\n",
       "    <tr>\n",
       "      <th>29171470</th>\n",
       "      <td>2020-07-18</td>\n",
       "      <td>2a4a65de4daf3a63c6b17817f9f7b8bfaff8d36e7cc9b8...</td>\n",
       "      <td>859400007</td>\n",
       "      <td>0.059305</td>\n",
       "      <td>1</td>\n",
       "    </tr>\n",
       "  </tbody>\n",
       "</table>\n",
       "<p>34176 rows × 5 columns</p>\n",
       "</div>"
      ],
      "text/plain": [
       "               t_dat                                        customer_id   \n",
       "17590273  2019-10-06  1605f45a42126c298cee7ff250fe524fad0fe316bdb644...  \\\n",
       "18645751  2019-11-04  10a26db5f52f18afa2f80863c3461645f4f3bb36b40bd3...   \n",
       "20794684  2019-12-31  73372f0470d1295639924a05bd9b84c5576fc4cb221db9...   \n",
       "30527704  2020-08-20  0ee6638462d9f0939b0d4c54372120c22888af16cde6a2...   \n",
       "19360853  2019-11-28  0866737360bafdf1479bcf0fd53ea95fd3076cd68a79e6...   \n",
       "...              ...                                                ...   \n",
       "29539955  2020-07-27  4d21924bf58d278f290b8db02ea8c8c965df8d146fbf92...   \n",
       "25308710  2020-05-02  0dfb0407365d8e150c1b8a535514c2f0082f6b75f92cd7...   \n",
       "26900967  2020-06-06  91aafcb2cf691b82792c31dde6fe2108730ee9dc258354...   \n",
       "24186795  2020-04-06  090d521efdf07346dc951aec88776e727e86dcb48d794b...   \n",
       "29171470  2020-07-18  2a4a65de4daf3a63c6b17817f9f7b8bfaff8d36e7cc9b8...   \n",
       "\n",
       "          article_id     price  sales_channel_id  \n",
       "17590273   685814022  0.033881                 1  \n",
       "18645751   737222003  0.010153                 2  \n",
       "20794684   689866001  0.002695                 1  \n",
       "30527704   843793004  0.033881                 2  \n",
       "19360853   824497001  0.012186                 2  \n",
       "...              ...       ...               ...  \n",
       "29539955   899247005  0.021593                 1  \n",
       "25308710   876127001  0.024186                 2  \n",
       "26900967   820507002  0.004780                 1  \n",
       "24186795   883033002  0.028322                 2  \n",
       "29171470   859400007  0.059305                 1  \n",
       "\n",
       "[34176 rows x 5 columns]"
      ]
     },
     "execution_count": 88,
     "metadata": {},
     "output_type": "execute_result"
    }
   ],
   "source": [
    "t_sample = transactions_30000.sample(frac  = .01)\n",
    "t_sample"
   ]
  },
  {
   "cell_type": "code",
   "execution_count": 92,
   "metadata": {},
   "outputs": [
    {
     "name": "stdout",
     "output_type": "stream",
     "text": [
      "true\n"
     ]
    }
   ],
   "source": [
    "if t_sample['customer_id'].isin(df_all_ages['customer_id']).all():\n",
    "    print(\"true\")\n",
    "else:\n",
    "    print(\"false\")"
   ]
  },
  {
   "cell_type": "code",
   "execution_count": 89,
   "metadata": {},
   "outputs": [],
   "source": [
    "t_sample.to_csv(\"t_sampled.csv\")"
   ]
  }
 ],
 "metadata": {
  "kernelspec": {
   "display_name": "Python 3",
   "language": "python",
   "name": "python3"
  },
  "language_info": {
   "codemirror_mode": {
    "name": "ipython",
    "version": 3
   },
   "file_extension": ".py",
   "mimetype": "text/x-python",
   "name": "python",
   "nbconvert_exporter": "python",
   "pygments_lexer": "ipython3",
   "version": "3.8.5"
  }
 },
 "nbformat": 4,
 "nbformat_minor": 4
}
