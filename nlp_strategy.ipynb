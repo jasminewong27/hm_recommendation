{
 "cells": [
  {
   "cell_type": "markdown",
   "metadata": {},
   "source": [
    "#### Jennie An, Ryan Costa, Manon LeDonne, Jasmine Wong\n",
    "#### DS4300 Final Project: H&M Recommendation Engine\n",
    "#### 19 April 2023\n",
    "#### nlp_strategy.ipynb is a recommendation engine that utilizes Tensorflow to recommend clothing items similar to each other based on product descriptions."
   ]
  },
  {
   "cell_type": "code",
   "execution_count": 1,
   "metadata": {},
   "outputs": [],
   "source": [
    "# Import Tensorflow and hub\n",
    "import tensorflow as tf\n",
    "\n",
    "import tensorflow_hub as hub\n",
    "\n",
    "# Plotting\n",
    "import matplotlib.pyplot as plt\n",
    "\n",
    "# Other libraries\n",
    "import numpy as np\n",
    "import pandas as pd\n",
    "\n",
    "# PCA and Nearest Neighbors\n",
    "from sklearn.neighbors import NearestNeighbors\n",
    "from sklearn.decomposition import PCA\n"
   ]
  },
  {
   "cell_type": "markdown",
   "metadata": {},
   "source": [
    "### Step 1: Connect Similar Articles to Each Other"
   ]
  },
  {
   "cell_type": "code",
   "execution_count": 2,
   "metadata": {},
   "outputs": [
    {
     "name": "stderr",
     "output_type": "stream",
     "text": [
      "2023-04-19 13:20:05.754945: W tensorflow/tsl/platform/profile_utils/cpu_utils.cc:128] Failed to get CPU frequency: 0 Hz\n"
     ]
    },
    {
     "name": "stdout",
     "output_type": "stream",
     "text": [
      "Model Loaded\n"
     ]
    }
   ],
   "source": [
    "# Connect to Google's Universal Sentence Encoder & load the model\n",
    "model_url = \"https://tfhub.dev/google/universal-sentence-encoder/4\"\n",
    "model = hub.load(model_url)\n",
    "print(\"Model Loaded\")"
   ]
  },
  {
   "cell_type": "code",
   "execution_count": 3,
   "metadata": {},
   "outputs": [],
   "source": [
    "def embed(texts):\n",
    "    '''\n",
    "    The embed function takes a list of texts and inserts them into the sentence encoder model\n",
    "    '''\n",
    "    return model(texts)"
   ]
  },
  {
   "cell_type": "code",
   "execution_count": 4,
   "metadata": {},
   "outputs": [
    {
     "name": "stdout",
     "output_type": "stream",
     "text": [
      "   article_id  product_code                  prod_name  product_type_no   \n",
      "0   108775015        108775                  Strap top              253  \\\n",
      "1   108775044        108775                  Strap top              253   \n",
      "2   108775051        108775              Strap top (1)              253   \n",
      "3   110065001        110065          OP T-shirt (Idro)              306   \n",
      "4   110065002        110065          OP T-shirt (Idro)              306   \n",
      "5   110065011        110065          OP T-shirt (Idro)              306   \n",
      "6   111565001        111565        20 den 1p Stockings              304   \n",
      "7   111565003        111565        20 den 1p Stockings              302   \n",
      "8   111586001        111586  Shape Up 30 den 1p Tights              273   \n",
      "9   111593001        111593   Support 40 den 1p Tights              304   \n",
      "\n",
      "  product_type_name  product_group_name  graphical_appearance_no   \n",
      "0          Vest top  Garment Upper body                  1010016  \\\n",
      "1          Vest top  Garment Upper body                  1010016   \n",
      "2          Vest top  Garment Upper body                  1010017   \n",
      "3               Bra           Underwear                  1010016   \n",
      "4               Bra           Underwear                  1010016   \n",
      "5               Bra           Underwear                  1010016   \n",
      "6  Underwear Tights      Socks & Tights                  1010016   \n",
      "7             Socks      Socks & Tights                  1010016   \n",
      "8   Leggings/Tights  Garment Lower body                  1010016   \n",
      "9  Underwear Tights      Socks & Tights                  1010016   \n",
      "\n",
      "  graphical_appearance_name  colour_group_code colour_group_name  ...   \n",
      "0                     Solid                  9             Black  ...  \\\n",
      "1                     Solid                 10             White  ...   \n",
      "2                    Stripe                 11         Off White  ...   \n",
      "3                     Solid                  9             Black  ...   \n",
      "4                     Solid                 10             White  ...   \n",
      "5                     Solid                 12       Light Beige  ...   \n",
      "6                     Solid                  9             Black  ...   \n",
      "7                     Solid                 13             Beige  ...   \n",
      "8                     Solid                  9             Black  ...   \n",
      "9                     Solid                  9             Black  ...   \n",
      "\n",
      "   department_name index_code        index_name index_group_no   \n",
      "0     Jersey Basic          A        Ladieswear              1  \\\n",
      "1     Jersey Basic          A        Ladieswear              1   \n",
      "2     Jersey Basic          A        Ladieswear              1   \n",
      "3   Clean Lingerie          B  Lingeries/Tights              1   \n",
      "4   Clean Lingerie          B  Lingeries/Tights              1   \n",
      "5   Clean Lingerie          B  Lingeries/Tights              1   \n",
      "6     Tights basic          B  Lingeries/Tights              1   \n",
      "7     Tights basic          B  Lingeries/Tights              1   \n",
      "8     Tights basic          B  Lingeries/Tights              1   \n",
      "9     Tights basic          B  Lingeries/Tights              1   \n",
      "\n",
      "   index_group_name section_no                    section_name   \n",
      "0        Ladieswear         16          Womens Everyday Basics  \\\n",
      "1        Ladieswear         16          Womens Everyday Basics   \n",
      "2        Ladieswear         16          Womens Everyday Basics   \n",
      "3        Ladieswear         61                 Womens Lingerie   \n",
      "4        Ladieswear         61                 Womens Lingerie   \n",
      "5        Ladieswear         61                 Womens Lingerie   \n",
      "6        Ladieswear         62  Womens Nightwear, Socks & Tigh   \n",
      "7        Ladieswear         62  Womens Nightwear, Socks & Tigh   \n",
      "8        Ladieswear         62  Womens Nightwear, Socks & Tigh   \n",
      "9        Ladieswear         62  Womens Nightwear, Socks & Tigh   \n",
      "\n",
      "  garment_group_no  garment_group_name   \n",
      "0             1002        Jersey Basic  \\\n",
      "1             1002        Jersey Basic   \n",
      "2             1002        Jersey Basic   \n",
      "3             1017   Under-, Nightwear   \n",
      "4             1017   Under-, Nightwear   \n",
      "5             1017   Under-, Nightwear   \n",
      "6             1021    Socks and Tights   \n",
      "7             1021    Socks and Tights   \n",
      "8             1021    Socks and Tights   \n",
      "9             1021    Socks and Tights   \n",
      "\n",
      "                                         detail_desc  \n",
      "0            Jersey top with narrow shoulder straps.  \n",
      "1            Jersey top with narrow shoulder straps.  \n",
      "2            Jersey top with narrow shoulder straps.  \n",
      "3  Microfibre T-shirt bra with underwired, moulde...  \n",
      "4  Microfibre T-shirt bra with underwired, moulde...  \n",
      "5  Microfibre T-shirt bra with underwired, moulde...  \n",
      "6  Semi shiny nylon stockings with a wide, reinfo...  \n",
      "7  Semi shiny nylon stockings with a wide, reinfo...  \n",
      "8  Tights with built-in support to lift the botto...  \n",
      "9  Semi shiny tights that shape the tummy, thighs...  \n",
      "\n",
      "[10 rows x 25 columns]\n"
     ]
    }
   ],
   "source": [
    "# Set global variables\n",
    "ARTICLES = \"articles.csv\"\n",
    "\n",
    "# Import Data\n",
    "articles_df = pd.read_csv(ARTICLES)\n",
    "\n",
    "# Inspect data\n",
    "print(articles_df.head(10))"
   ]
  },
  {
   "cell_type": "code",
   "execution_count": 5,
   "metadata": {},
   "outputs": [
    {
     "data": {
      "text/html": [
       "<div>\n",
       "<style scoped>\n",
       "    .dataframe tbody tr th:only-of-type {\n",
       "        vertical-align: middle;\n",
       "    }\n",
       "\n",
       "    .dataframe tbody tr th {\n",
       "        vertical-align: top;\n",
       "    }\n",
       "\n",
       "    .dataframe thead th {\n",
       "        text-align: right;\n",
       "    }\n",
       "</style>\n",
       "<table border=\"1\" class=\"dataframe\">\n",
       "  <thead>\n",
       "    <tr style=\"text-align: right;\">\n",
       "      <th></th>\n",
       "      <th>article_id</th>\n",
       "      <th>detail_desc</th>\n",
       "    </tr>\n",
       "  </thead>\n",
       "  <tbody>\n",
       "    <tr>\n",
       "      <th>0</th>\n",
       "      <td>108775015</td>\n",
       "      <td>Jersey top with narrow shoulder straps.</td>\n",
       "    </tr>\n",
       "    <tr>\n",
       "      <th>1</th>\n",
       "      <td>108775044</td>\n",
       "      <td>Jersey top with narrow shoulder straps.</td>\n",
       "    </tr>\n",
       "    <tr>\n",
       "      <th>2</th>\n",
       "      <td>108775051</td>\n",
       "      <td>Jersey top with narrow shoulder straps.</td>\n",
       "    </tr>\n",
       "    <tr>\n",
       "      <th>3</th>\n",
       "      <td>110065001</td>\n",
       "      <td>Microfibre T-shirt bra with underwired, moulde...</td>\n",
       "    </tr>\n",
       "    <tr>\n",
       "      <th>4</th>\n",
       "      <td>110065002</td>\n",
       "      <td>Microfibre T-shirt bra with underwired, moulde...</td>\n",
       "    </tr>\n",
       "    <tr>\n",
       "      <th>5</th>\n",
       "      <td>110065011</td>\n",
       "      <td>Microfibre T-shirt bra with underwired, moulde...</td>\n",
       "    </tr>\n",
       "    <tr>\n",
       "      <th>6</th>\n",
       "      <td>111565001</td>\n",
       "      <td>Semi shiny nylon stockings with a wide, reinfo...</td>\n",
       "    </tr>\n",
       "    <tr>\n",
       "      <th>7</th>\n",
       "      <td>111565003</td>\n",
       "      <td>Semi shiny nylon stockings with a wide, reinfo...</td>\n",
       "    </tr>\n",
       "    <tr>\n",
       "      <th>8</th>\n",
       "      <td>111586001</td>\n",
       "      <td>Tights with built-in support to lift the botto...</td>\n",
       "    </tr>\n",
       "    <tr>\n",
       "      <th>9</th>\n",
       "      <td>111593001</td>\n",
       "      <td>Semi shiny tights that shape the tummy, thighs...</td>\n",
       "    </tr>\n",
       "  </tbody>\n",
       "</table>\n",
       "</div>"
      ],
      "text/plain": [
       "   article_id                                        detail_desc\n",
       "0   108775015            Jersey top with narrow shoulder straps.\n",
       "1   108775044            Jersey top with narrow shoulder straps.\n",
       "2   108775051            Jersey top with narrow shoulder straps.\n",
       "3   110065001  Microfibre T-shirt bra with underwired, moulde...\n",
       "4   110065002  Microfibre T-shirt bra with underwired, moulde...\n",
       "5   110065011  Microfibre T-shirt bra with underwired, moulde...\n",
       "6   111565001  Semi shiny nylon stockings with a wide, reinfo...\n",
       "7   111565003  Semi shiny nylon stockings with a wide, reinfo...\n",
       "8   111586001  Tights with built-in support to lift the botto...\n",
       "9   111593001  Semi shiny tights that shape the tummy, thighs..."
      ]
     },
     "execution_count": 5,
     "metadata": {},
     "output_type": "execute_result"
    }
   ],
   "source": [
    "# Create a df of articles and their descriptions\n",
    "desc_df = articles_df[[\"article_id\", \"detail_desc\"]]\n",
    "desc_df.head(10)"
   ]
  },
  {
   "cell_type": "code",
   "execution_count": 6,
   "metadata": {},
   "outputs": [],
   "source": [
    "# Check for null values and drop them\n",
    "desc_df.isna().sum().sum()\n",
    "desc_df = desc_df.dropna()\n",
    "desc_df = desc_df.reset_index()"
   ]
  },
  {
   "cell_type": "code",
   "execution_count": 7,
   "metadata": {},
   "outputs": [
    {
     "name": "stdout",
     "output_type": "stream",
     "text": [
      "(105126, 3)\n",
      "43404\n"
     ]
    }
   ],
   "source": [
    "# Inspect the resulting df shape\n",
    "print(desc_df.shape)\n",
    "print(desc_df[\"detail_desc\"].nunique())"
   ]
  },
  {
   "cell_type": "code",
   "execution_count": 8,
   "metadata": {},
   "outputs": [
    {
     "data": {
      "text/plain": [
       "Text(0, 0.5, 'Frequency')"
      ]
     },
     "execution_count": 8,
     "metadata": {},
     "output_type": "execute_result"
    },
    {
     "data": {
      "image/png": "[encoded data removed]",
      "text/plain": [
       "<Figure size 640x480 with 1 Axes>"
      ]
     },
     "metadata": {},
     "output_type": "display_data"
    }
   ],
   "source": [
    "# Excecute EDA: Find distribution of wordcounts in product descriptions\n",
    "desc_df['word_count'] = desc_df['detail_desc'].apply(lambda x : len(x.split()))\n",
    "plt.hist(desc_df['word_count'])\n",
    "plt.title(\"Distribution of Length of Article Description\")\n",
    "plt.xlabel(\"Number of Words in a Descriptions\")\n",
    "plt.ylabel(\"Frequency\")"
   ]
  },
  {
   "cell_type": "code",
   "execution_count": 9,
   "metadata": {},
   "outputs": [],
   "source": [
    "# Compile the descriptions into a list\n",
    "descriptions = list(desc_df['detail_desc'])"
   ]
  },
  {
   "cell_type": "code",
   "execution_count": 10,
   "metadata": {},
   "outputs": [],
   "source": [
    "# Embed the descriptions into high dimensional vectors\n",
    "embeddings = embed(descriptions)"
   ]
  },
  {
   "cell_type": "code",
   "execution_count": 11,
   "metadata": {},
   "outputs": [],
   "source": [
    "# Conduct Principle Componenet Analysis to be able to plot the embeddings in 2 dimensions\n",
    "pca = PCA(n_components = 2)\n",
    "emb_2d = pca.fit_transform(embeddings)"
   ]
  },
  {
   "cell_type": "code",
   "execution_count": 12,
   "metadata": {},
   "outputs": [
    {
     "data": {
      "image/png": "[encoded data removed]",
      "text/plain": [
       "<Figure size 640x480 with 1 Axes>"
      ]
     },
     "metadata": {},
     "output_type": "display_data"
    }
   ],
   "source": [
    "# Plot the Embeddings\n",
    "plt.figure()\n",
    "plt.title(\"Embedding Space for All Clothing Articles\")\n",
    "plt.scatter(emb_2d[:, 0], emb_2d[:, 1])\n",
    "plt.show()"
   ]
  },
  {
   "cell_type": "code",
   "execution_count": 13,
   "metadata": {},
   "outputs": [
    {
     "data": {
      "text/html": [
       "<style>#sk-container-id-1 {color: black;background-color: white;}#sk-container-id-1 pre{padding: 0;}#sk-container-id-1 div.sk-toggleable {background-color: white;}#sk-container-id-1 label.sk-toggleable__label {cursor: pointer;display: block;width: 100%;margin-bottom: 0;padding: 0.3em;box-sizing: border-box;text-align: center;}#sk-container-id-1 label.sk-toggleable__label-arrow:before {content: \"▸\";float: left;margin-right: 0.25em;color: #696969;}#sk-container-id-1 label.sk-toggleable__label-arrow:hover:before {color: black;}#sk-container-id-1 div.sk-estimator:hover label.sk-toggleable__label-arrow:before {color: black;}#sk-container-id-1 div.sk-toggleable__content {max-height: 0;max-width: 0;overflow: hidden;text-align: left;background-color: #f0f8ff;}#sk-container-id-1 div.sk-toggleable__content pre {margin: 0.2em;color: black;border-radius: 0.25em;background-color: #f0f8ff;}#sk-container-id-1 input.sk-toggleable__control:checked~div.sk-toggleable__content {max-height: 200px;max-width: 100%;overflow: auto;}#sk-container-id-1 input.sk-toggleable__control:checked~label.sk-toggleable__label-arrow:before {content: \"▾\";}#sk-container-id-1 div.sk-estimator input.sk-toggleable__control:checked~label.sk-toggleable__label {background-color: #d4ebff;}#sk-container-id-1 div.sk-label input.sk-toggleable__control:checked~label.sk-toggleable__label {background-color: #d4ebff;}#sk-container-id-1 input.sk-hidden--visually {border: 0;clip: rect(1px 1px 1px 1px);clip: rect(1px, 1px, 1px, 1px);height: 1px;margin: -1px;overflow: hidden;padding: 0;position: absolute;width: 1px;}#sk-container-id-1 div.sk-estimator {font-family: monospace;background-color: #f0f8ff;border: 1px dotted black;border-radius: 0.25em;box-sizing: border-box;margin-bottom: 0.5em;}#sk-container-id-1 div.sk-estimator:hover {background-color: #d4ebff;}#sk-container-id-1 div.sk-parallel-item::after {content: \"\";width: 100%;border-bottom: 1px solid gray;flex-grow: 1;}#sk-container-id-1 div.sk-label:hover label.sk-toggleable__label {background-color: #d4ebff;}#sk-container-id-1 div.sk-serial::before {content: \"\";position: absolute;border-left: 1px solid gray;box-sizing: border-box;top: 0;bottom: 0;left: 50%;z-index: 0;}#sk-container-id-1 div.sk-serial {display: flex;flex-direction: column;align-items: center;background-color: white;padding-right: 0.2em;padding-left: 0.2em;position: relative;}#sk-container-id-1 div.sk-item {position: relative;z-index: 1;}#sk-container-id-1 div.sk-parallel {display: flex;align-items: stretch;justify-content: center;background-color: white;position: relative;}#sk-container-id-1 div.sk-item::before, #sk-container-id-1 div.sk-parallel-item::before {content: \"\";position: absolute;border-left: 1px solid gray;box-sizing: border-box;top: 0;bottom: 0;left: 50%;z-index: -1;}#sk-container-id-1 div.sk-parallel-item {display: flex;flex-direction: column;z-index: 1;position: relative;background-color: white;}#sk-container-id-1 div.sk-parallel-item:first-child::after {align-self: flex-end;width: 50%;}#sk-container-id-1 div.sk-parallel-item:last-child::after {align-self: flex-start;width: 50%;}#sk-container-id-1 div.sk-parallel-item:only-child::after {width: 0;}#sk-container-id-1 div.sk-dashed-wrapped {border: 1px dashed gray;margin: 0 0.4em 0.5em 0.4em;box-sizing: border-box;padding-bottom: 0.4em;background-color: white;}#sk-container-id-1 div.sk-label label {font-family: monospace;font-weight: bold;display: inline-block;line-height: 1.2em;}#sk-container-id-1 div.sk-label-container {text-align: center;}#sk-container-id-1 div.sk-container {/* jupyter's `normalize.less` sets `[hidden] { display: none; }` but bootstrap.min.css set `[hidden] { display: none !important; }` so we also need the `!important` here to be able to override the default hidden behavior on the sphinx rendered scikit-learn.org. See: https://github.com/scikit-learn/scikit-learn/issues/21755 */display: inline-block !important;position: relative;}#sk-container-id-1 div.sk-text-repr-fallback {display: none;}</style><div id=\"sk-container-id-1\" class=\"sk-top-container\"><div class=\"sk-text-repr-fallback\"><pre>NearestNeighbors(metric=&#x27;cosine&#x27;, n_neighbors=2)</pre><b>In a Jupyter environment, please rerun this cell to show the HTML representation or trust the notebook. <br />On GitHub, the HTML representation is unable to render, please try loading this page with nbviewer.org.</b></div><div class=\"sk-container\" hidden><div class=\"sk-item\"><div class=\"sk-estimator sk-toggleable\"><input class=\"sk-toggleable__control sk-hidden--visually\" id=\"sk-estimator-id-1\" type=\"checkbox\" checked><label for=\"sk-estimator-id-1\" class=\"sk-toggleable__label sk-toggleable__label-arrow\">NearestNeighbors</label><div class=\"sk-toggleable__content\"><pre>NearestNeighbors(metric=&#x27;cosine&#x27;, n_neighbors=2)</pre></div></div></div></div></div>"
      ],
      "text/plain": [
       "NearestNeighbors(metric='cosine', n_neighbors=2)"
      ]
     },
     "execution_count": 13,
     "metadata": {},
     "output_type": "execute_result"
    }
   ],
   "source": [
    "# Set a nearest neighbor to get the most related pieces\n",
    "nn = NearestNeighbors(n_neighbors=2, metric = \"cosine\")\n",
    "nn.fit(embeddings)"
   ]
  },
  {
   "cell_type": "markdown",
   "metadata": {},
   "source": [
    "### Step 2: Recommend a piece of clothing for a customer based on one of their past purchases"
   ]
  },
  {
   "cell_type": "code",
   "execution_count": 14,
   "metadata": {},
   "outputs": [],
   "source": [
    "# Import the transactions data & create a list of unique customers\n",
    "transactions = pd.read_csv(\"transactions_sample.csv\")\n",
    "\n",
    "# Generate a list of all of the customer ids in the sample csv\n",
    "customer_ids = transactions[\"customer_id\"].unique().tolist()"
   ]
  },
  {
   "cell_type": "code",
   "execution_count": 15,
   "metadata": {},
   "outputs": [],
   "source": [
    "# Select a random customer\n",
    "import random\n",
    "\n",
    "def choose_customer_article(rand_customer):\n",
    "    '''\n",
    "    choose_customer_article selects a random clothing article from a given customer's past purchases\n",
    "\n",
    "    Parameters:\n",
    "        rand_customer: the customer id of a random customer in the dataset\n",
    "\n",
    "    Returns:\n",
    "        dictionary of {random customer's customer id: random article's article id} and a df of rand_customer's past purchases\n",
    "    '''\n",
    "    random.seed(1)\n",
    "\n",
    "    print(\"The random customer is: Customer ID\", rand_customer)\n",
    "\n",
    "    # Select one of the customer's their past purchases\n",
    "    purchases = transactions.loc[transactions[\"customer_id\"] == rand_customer] \n",
    "    article = purchases.sample(n=1)[\"article_id\"].to_string(index = False)\n",
    "\n",
    "    return {rand_customer: article}, purchases"
   ]
  },
  {
   "cell_type": "code",
   "execution_count": 16,
   "metadata": {},
   "outputs": [],
   "source": [
    "# Make dummy df that is empty\n",
    "empty = pd.DataFrame()"
   ]
  },
  {
   "cell_type": "code",
   "execution_count": 17,
   "metadata": {},
   "outputs": [],
   "source": [
    "def recommend(past_purchases = empty, article = descriptions):\n",
    "    '''\n",
    "    Reccomend generates a list of article recommendations for a customer based on an input of one of their previous purchases\n",
    "\n",
    "    Parameters:\n",
    "        past_purchases: a df of the customers past purchases to check that the recommended pieces has not been bought yet\n",
    "        article: article id of the past purchase that we are generating recommendations from\n",
    "\n",
    "    Returns:\n",
    "        articles: list of product recommendations for the customer\n",
    "    '''\n",
    "    # Embed the list of sentences\n",
    "    emb = embed([article])\n",
    "    # Get indexes of nearest neighbots\n",
    "    neighbors = nn.kneighbors(emb, return_distance = False)[0]\n",
    "    # Get list of article id's for the suggested articles\n",
    "    article_ids = desc_df['article_id'].iloc[neighbors].tolist()\n",
    "\n",
    "    # Initialize an empty list to store the extended article information\n",
    "    articles = []\n",
    "    \n",
    "    # For each article in list of recommended article ids\n",
    "    for article in article_ids:\n",
    "        if past_purchases.empty != True:\n",
    "            # Check that customer has not purchased it yet\n",
    "            if int(article) not in past_purchases[\"article_id\"].values:\n",
    "                # Find the extended information for them from the articles df & append to articles list\n",
    "                item = articles_df.loc[articles_df['article_id'] == article]\n",
    "                articles.append(item)\n",
    "\n",
    "        # If the customer has no part purchases, return the recommendations without filtering\n",
    "        else:\n",
    "            item = articles_df.loc[articles_df['article_id'] == article]\n",
    "            articles.append(item)\n",
    "\n",
    "    return articles"
   ]
  },
  {
   "cell_type": "code",
   "execution_count": 18,
   "metadata": {},
   "outputs": [],
   "source": [
    "def nlp_recommendation(rand_customer):\n",
    "    '''\n",
    "    nlp_recommendation takes in a random customer and returns a list of their tailored recommendations\n",
    "\n",
    "    Parameters:\n",
    "        rand_customer: a string of the customer ID for the customer of interest\n",
    "\n",
    "    Returns:\n",
    "        recommendations: a list of recommendations for the customer\n",
    "    '''\n",
    "\n",
    "    # Choose a random article and extract this customer's past purchases\n",
    "    rand_cust_article, past_purchases = choose_customer_article(rand_customer)\n",
    "\n",
    "    print(\"The random article selected is article\", rand_cust_article[rand_customer])\n",
    "\n",
    "    # Generate recommendations\n",
    "    recommendations = recommend(past_purchases, rand_cust_article[rand_customer])\n",
    "\n",
    "    return recommendations"
   ]
  },
  {
   "cell_type": "code",
   "execution_count": 19,
   "metadata": {},
   "outputs": [
    {
     "name": "stdout",
     "output_type": "stream",
     "text": [
      "The random customer is: Customer ID fc1730a6d5cfaa12d692fd81f4ce1d5759b247383bea6571a570ccc1a467151c\n",
      "The random article selected is article 399201042\n"
     ]
    },
    {
     "data": {
      "text/plain": [
       "[       article_id  product_code            prod_name  product_type_no   \n",
       " 34637   642906001        642906  PE - FRANCES ring 2               79  \\\n",
       " \n",
       "       product_type_name product_group_name  graphical_appearance_no   \n",
       " 34637              Ring        Accessories                  1010016  \\\n",
       " \n",
       "       graphical_appearance_name  colour_group_code colour_group_name  ...   \n",
       " 34637                     Solid                  3            Silver  ...  \\\n",
       " \n",
       "           department_name index_code  index_name index_group_no   \n",
       " 34637  Take Care External          A  Ladieswear              1  \\\n",
       " \n",
       "        index_group_name section_no    section_name garment_group_no   \n",
       " 34637        Ladieswear         97  Collaborations             1001  \\\n",
       " \n",
       "        garment_group_name                detail_desc  \n",
       " 34637             Unknown  Large silver-plated ring.  \n",
       " \n",
       " [1 rows x 25 columns],\n",
       "        article_id  product_code         prod_name  product_type_no   \n",
       " 47155   687999001        687999  Ring Cut & Paste               79  \\\n",
       " \n",
       "       product_type_name product_group_name  graphical_appearance_no   \n",
       " 47155              Ring        Accessories                  1010016  \\\n",
       " \n",
       "       graphical_appearance_name  colour_group_code colour_group_name  ...   \n",
       " 47155                     Solid                  3            Silver  ...  \\\n",
       " \n",
       "          department_name index_code  index_name index_group_no   \n",
       " 47155  Small Accessories          F    Menswear              3  \\\n",
       " \n",
       "        index_group_name section_no     section_name garment_group_no   \n",
       " 47155          Menswear         25  Men Accessories             1019  \\\n",
       " \n",
       "        garment_group_name  detail_desc  \n",
       " 47155         Accessories  Metal ring.  \n",
       " \n",
       " [1 rows x 25 columns]]"
      ]
     },
     "execution_count": 19,
     "metadata": {},
     "output_type": "execute_result"
    }
   ],
   "source": [
    "# Generate a recommendation for a random customer based on their past pruchase\n",
    "random.seed(60)\n",
    "rand_customer = random.choice(customer_ids)\n",
    "nlp_recommendation(rand_customer)"
   ]
  },
  {
   "cell_type": "markdown",
   "metadata": {},
   "source": [
    "### Run a few tests to compare to other models"
   ]
  },
  {
   "cell_type": "code",
   "execution_count": 20,
   "metadata": {},
   "outputs": [
    {
     "data": {
      "text/plain": [
       "[     article_id  product_code     prod_name  product_type_no   \n",
       " 125   181448022        181448  Jenny 5-pack              302  \\\n",
       " \n",
       "     product_type_name product_group_name  graphical_appearance_no   \n",
       " 125             Socks     Socks & Tights                  1010016  \\\n",
       " \n",
       "     graphical_appearance_name  colour_group_code colour_group_name  ...   \n",
       " 125                     Solid                  9             Black  ...  \\\n",
       " \n",
       "      department_name index_code  index_name index_group_no  index_group_name   \n",
       " 125               UW          D     Divided              2           Divided  \\\n",
       " \n",
       "     section_no    section_name garment_group_no  garment_group_name   \n",
       " 125         51  Divided Basics             1017   Under-, Nightwear  \\\n",
       " \n",
       "           detail_desc  \n",
       " 125  Fine-knit socks.  \n",
       " \n",
       " [1 rows x 25 columns],\n",
       "      article_id  product_code     prod_name  product_type_no   \n",
       " 126   181448102        181448  Jenny 5-pack              302  \\\n",
       " \n",
       "     product_type_name product_group_name  graphical_appearance_no   \n",
       " 126             Socks     Socks & Tights                  1010010  \\\n",
       " \n",
       "     graphical_appearance_name  colour_group_code colour_group_name  ...   \n",
       " 126                   Melange                 51        Light Pink  ...  \\\n",
       " \n",
       "      department_name index_code  index_name index_group_no  index_group_name   \n",
       " 126               UW          D     Divided              2           Divided  \\\n",
       " \n",
       "     section_no    section_name garment_group_no  garment_group_name   \n",
       " 126         51  Divided Basics             1017   Under-, Nightwear  \\\n",
       " \n",
       "           detail_desc  \n",
       " 126  Fine-knit socks.  \n",
       " \n",
       " [1 rows x 25 columns]]"
      ]
     },
     "execution_count": 20,
     "metadata": {},
     "output_type": "execute_result"
    }
   ],
   "source": [
    "# First test for a yellow sweater\n",
    "recommend(article = \"700326002\")"
   ]
  },
  {
   "cell_type": "code",
   "execution_count": 21,
   "metadata": {},
   "outputs": [
    {
     "data": {
      "text/plain": [
       "[     article_id  product_code           prod_name  product_type_no   \n",
       " 373   233091003        233091  Magic Gloves 2pack               71  \\\n",
       " \n",
       "     product_type_name product_group_name  graphical_appearance_no   \n",
       " 373            Gloves        Accessories                  1010016  \\\n",
       " \n",
       "     graphical_appearance_name  colour_group_code colour_group_name  ...   \n",
       " 373                     Solid                  9             Black  ...  \\\n",
       " \n",
       "      department_name index_code  index_name index_group_no  index_group_name   \n",
       " 373     Knit & Woven          D     Divided              2           Divided  \\\n",
       " \n",
       "     section_no         section_name garment_group_no  garment_group_name   \n",
       " 373         52  Divided Accessories             1019         Accessories  \\\n",
       " \n",
       "            detail_desc  \n",
       " 373  Fine-knit gloves.  \n",
       " \n",
       " [1 rows x 25 columns],\n",
       "      article_id  product_code           prod_name  product_type_no   \n",
       " 374   233091015        233091  Magic Gloves 2pack               71  \\\n",
       " \n",
       "     product_type_name product_group_name  graphical_appearance_no   \n",
       " 374            Gloves        Accessories                  1010016  \\\n",
       " \n",
       "     graphical_appearance_name  colour_group_code colour_group_name  ...   \n",
       " 374                     Solid                 31      Light Orange  ...  \\\n",
       " \n",
       "      department_name index_code  index_name index_group_no  index_group_name   \n",
       " 374     Knit & Woven          D     Divided              2           Divided  \\\n",
       " \n",
       "     section_no         section_name garment_group_no  garment_group_name   \n",
       " 374         52  Divided Accessories             1019         Accessories  \\\n",
       " \n",
       "            detail_desc  \n",
       " 374  Fine-knit gloves.  \n",
       " \n",
       " [1 rows x 25 columns]]"
      ]
     },
     "execution_count": 21,
     "metadata": {},
     "output_type": "execute_result"
    }
   ],
   "source": [
    "# Second test for a Dress\n",
    "recommend(article = \"761577002\")"
   ]
  }
 ],
 "metadata": {
  "interpreter": {
   "hash": "c79c2e5123c5ca4af592e1e3b195b666fe5c381d14ba33d0de1ba2c58d4270b4"
  },
  "kernelspec": {
   "display_name": "Python 3.9.13 ('ds')",
   "language": "python",
   "name": "python3"
  },
  "language_info": {
   "codemirror_mode": {
    "name": "ipython",
    "version": 3
   },
   "file_extension": ".py",
   "mimetype": "text/x-python",
   "name": "python",
   "nbconvert_exporter": "python",
   "pygments_lexer": "ipython3",
   "version": "3.10.7"
  },
  "orig_nbformat": 4
 },
 "nbformat": 4,
 "nbformat_minor": 2
}
